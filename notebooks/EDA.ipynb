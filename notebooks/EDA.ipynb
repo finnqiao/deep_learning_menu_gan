{
 "cells": [
  {
   "cell_type": "code",
   "execution_count": 183,
   "metadata": {},
   "outputs": [],
   "source": [
    "import pandas as pd\n",
    "import numpy as np\n",
    "import statistics\n",
    "import matplotlib.mlab as mlab\n",
    "import matplotlib.pyplot as plt\n",
    "import seaborn as sns\n",
    "import nltk\n",
    "from collections import Counter\n",
    "from nltk.tokenize import RegexpTokenizer"
   ]
  },
  {
   "cell_type": "markdown",
   "metadata": {},
   "source": [
    "## Read Data and Simple Cleaning"
   ]
  },
  {
   "cell_type": "code",
   "execution_count": 105,
   "metadata": {},
   "outputs": [],
   "source": [
    "menu = pd.read_csv(r\"menupages.csv\")"
   ]
  },
  {
   "cell_type": "code",
   "execution_count": 106,
   "metadata": {},
   "outputs": [],
   "source": [
    "menu = menu.dropna() #drop 140 rows containing na values"
   ]
  },
  {
   "cell_type": "code",
   "execution_count": 107,
   "metadata": {},
   "outputs": [
    {
     "data": {
      "text/html": [
       "<div>\n",
       "<style scoped>\n",
       "    .dataframe tbody tr th:only-of-type {\n",
       "        vertical-align: middle;\n",
       "    }\n",
       "\n",
       "    .dataframe tbody tr th {\n",
       "        vertical-align: top;\n",
       "    }\n",
       "\n",
       "    .dataframe thead th {\n",
       "        text-align: right;\n",
       "    }\n",
       "</style>\n",
       "<table border=\"1\" class=\"dataframe\">\n",
       "  <thead>\n",
       "    <tr style=\"text-align: right;\">\n",
       "      <th></th>\n",
       "      <th>city</th>\n",
       "      <th>menu_descriptions</th>\n",
       "      <th>menu_items</th>\n",
       "      <th>menu_prices</th>\n",
       "      <th>restaurant_name</th>\n",
       "      <th>state</th>\n",
       "      <th>tags</th>\n",
       "    </tr>\n",
       "  </thead>\n",
       "  <tbody>\n",
       "    <tr>\n",
       "      <th>0</th>\n",
       "      <td>Bakersfield</td>\n",
       "      <td>Savory filling with chicken and vegetables wra...</td>\n",
       "      <td>6 Piece Fried Potstickers,Bowl Special,Combo B...</td>\n",
       "      <td>$6.59\\n      ,$8.99\\n      ,$10.39\\n      ,$11...</td>\n",
       "      <td>China Bistro</td>\n",
       "      <td>CA</td>\n",
       "      <td>Asian, Chinese, Dinner, Healthy, Lunch, Seafoo...</td>\n",
       "    </tr>\n",
       "    <tr>\n",
       "      <th>1</th>\n",
       "      <td>Bell Gardens</td>\n",
       "      <td>4 pieces deep-fried egg roll, mixed veggies an...</td>\n",
       "      <td>A1. Thai Egg Roll,7. Classic Thai Grilled Stea...</td>\n",
       "      <td>$4.50\\n      ,$9.50\\n      ,$4.50\\n      ,$2.5...</td>\n",
       "      <td>The Rice Street</td>\n",
       "      <td>CA</td>\n",
       "      <td>Asian, Dinner, Lunch Specials, Noodles, Seafoo...</td>\n",
       "    </tr>\n",
       "    <tr>\n",
       "      <th>2</th>\n",
       "      <td>Bellflower</td>\n",
       "      <td>Add pastrami for $2.00.,Pepsi, diet pepsi, spr...</td>\n",
       "      <td>Chili Cheese Fries,8 Pieces Fried Mozzarella S...</td>\n",
       "      <td>$4.99\\n      ,$5.99\\n      ,$2.99\\n      ,$0.7...</td>\n",
       "      <td>Tam's Pizzeria</td>\n",
       "      <td>CA</td>\n",
       "      <td>Dinner, Hamburgers, Lunch Specials, Pasta, Piz...</td>\n",
       "    </tr>\n",
       "    <tr>\n",
       "      <th>3</th>\n",
       "      <td>Bell Gardens</td>\n",
       "      <td>One skewer of beef and one skewer of chicken. ...</td>\n",
       "      <td>Soda,The Classic Cheeseburger,Kabob Plate,Soda...</td>\n",
       "      <td>$2.69\\n      ,$4.49\\n      ,$12.99\\n      ,$2....</td>\n",
       "      <td>World Famous Grill</td>\n",
       "      <td>CA</td>\n",
       "      <td>Dinner, Hamburgers, Lunch Specials, Mediterran...</td>\n",
       "    </tr>\n",
       "    <tr>\n",
       "      <th>5</th>\n",
       "      <td>Bellflower</td>\n",
       "      <td>Sauteed chow mein noodles with vegetables. Cho...</td>\n",
       "      <td>P2. Chow Mein,F1. Fried Rice,F2. Pineapple Fri...</td>\n",
       "      <td>$8.95\\n      ,$9.95\\n      ,$11.95\\n      ,$1....</td>\n",
       "      <td>Royal's Taste</td>\n",
       "      <td>CA</td>\n",
       "      <td>Dessert, Dinner, Lunch, Lunch Specials, Noodle...</td>\n",
       "    </tr>\n",
       "  </tbody>\n",
       "</table>\n",
       "</div>"
      ],
      "text/plain": [
       "           city                                  menu_descriptions  \\\n",
       "0   Bakersfield  Savory filling with chicken and vegetables wra...   \n",
       "1  Bell Gardens  4 pieces deep-fried egg roll, mixed veggies an...   \n",
       "2    Bellflower  Add pastrami for $2.00.,Pepsi, diet pepsi, spr...   \n",
       "3  Bell Gardens  One skewer of beef and one skewer of chicken. ...   \n",
       "5    Bellflower  Sauteed chow mein noodles with vegetables. Cho...   \n",
       "\n",
       "                                          menu_items  \\\n",
       "0  6 Piece Fried Potstickers,Bowl Special,Combo B...   \n",
       "1  A1. Thai Egg Roll,7. Classic Thai Grilled Stea...   \n",
       "2  Chili Cheese Fries,8 Pieces Fried Mozzarella S...   \n",
       "3  Soda,The Classic Cheeseburger,Kabob Plate,Soda...   \n",
       "5  P2. Chow Mein,F1. Fried Rice,F2. Pineapple Fri...   \n",
       "\n",
       "                                         menu_prices     restaurant_name  \\\n",
       "0  $6.59\\n      ,$8.99\\n      ,$10.39\\n      ,$11...        China Bistro   \n",
       "1  $4.50\\n      ,$9.50\\n      ,$4.50\\n      ,$2.5...     The Rice Street   \n",
       "2  $4.99\\n      ,$5.99\\n      ,$2.99\\n      ,$0.7...      Tam's Pizzeria   \n",
       "3  $2.69\\n      ,$4.49\\n      ,$12.99\\n      ,$2....  World Famous Grill   \n",
       "5  $8.95\\n      ,$9.95\\n      ,$11.95\\n      ,$1....       Royal's Taste   \n",
       "\n",
       "  state                                               tags  \n",
       "0    CA  Asian, Chinese, Dinner, Healthy, Lunch, Seafoo...  \n",
       "1    CA  Asian, Dinner, Lunch Specials, Noodles, Seafoo...  \n",
       "2    CA  Dinner, Hamburgers, Lunch Specials, Pasta, Piz...  \n",
       "3    CA  Dinner, Hamburgers, Lunch Specials, Mediterran...  \n",
       "5    CA  Dessert, Dinner, Lunch, Lunch Specials, Noodle...  "
      ]
     },
     "execution_count": 107,
     "metadata": {},
     "output_type": "execute_result"
    }
   ],
   "source": [
    "menu.head()"
   ]
  },
  {
   "cell_type": "code",
   "execution_count": 108,
   "metadata": {},
   "outputs": [],
   "source": [
    "#functions for cleaning data\n",
    "def priceseperator(a):\n",
    "    '''\n",
    "    a: a row in the menu dataframe. Ex: menu.iloc[1]\n",
    "    result: return a list of numerical prices\n",
    "    '''\n",
    "    full = a['menu_prices'][1:].replace(\",\",\"\")+\"$\"\n",
    "    result = full.split(\"\\n      $\")\n",
    "    del result[len(result)-1]\n",
    "    result = [float(i) for i in result]\n",
    "    return result\n",
    "\n",
    "def itemseperator(a):\n",
    "    result = a['menu_items'].split(\",\")\n",
    "    return result\n",
    "\n",
    "def tagseperator(a):\n",
    "    result = a['tags'].replace(\" \",\"\").split(\",\")\n",
    "    return result\n",
    "\n",
    "def remove_punc(df, index):\n",
    "    tokenizer = RegexpTokenizer(r'\\w+')\n",
    "    return_series = []\n",
    "    for row in df.itertuples():\n",
    "        tokens = tokenizer.tokenize(row[index])\n",
    "        words = [word for word in tokens if word.isalpha()]\n",
    "        words = (' ').join(words)\n",
    "        return_series.append(words)\n",
    "    print(len(return_series))    \n",
    "    return pd.Series(return_series)"
   ]
  },
  {
   "cell_type": "code",
   "execution_count": 109,
   "metadata": {},
   "outputs": [],
   "source": [
    "i = 0\n",
    "while i<len(menu):\n",
    "    menu.iloc[i]['menu_prices']=priceseperator(menu.iloc[i])\n",
    "    i = i+1"
   ]
  },
  {
   "cell_type": "markdown",
   "metadata": {},
   "source": [
    "## Create New Dataframe"
   ]
  },
  {
   "cell_type": "code",
   "execution_count": 99,
   "metadata": {},
   "outputs": [],
   "source": [
    "i = 0\n",
    "total_tags = []\n",
    "tags_num = []\n",
    "while i<len(menu):\n",
    "    temp = tagseperator(menu.iloc[i])\n",
    "    total_tags = total_tags+temp\n",
    "    tags_num.append(len(temp))\n",
    "    i = i+1"
   ]
  },
  {
   "cell_type": "code",
   "execution_count": 118,
   "metadata": {},
   "outputs": [],
   "source": [
    "i = 0\n",
    "state_new = []\n",
    "restaurant_name_new = []\n",
    "menu_prices_new = []\n",
    "\n",
    "menu1 = menu.head()\n",
    "while i<len(menu):\n",
    "    j = 0\n",
    "    tagsnum_this = tags_num[i]\n",
    "    while j<tagsnum_this:\n",
    "        state_new.append(menu.iloc[i]['state'])\n",
    "        restaurant_name_new.append(menu.iloc[i]['restaurant_name'])\n",
    "        menu_prices_new.append(menu.iloc[i]['menu_prices'])\n",
    "        j = j+1\n",
    "    i = i+1"
   ]
  },
  {
   "cell_type": "code",
   "execution_count": 124,
   "metadata": {},
   "outputs": [
    {
     "data": {
      "text/html": [
       "<div>\n",
       "<style scoped>\n",
       "    .dataframe tbody tr th:only-of-type {\n",
       "        vertical-align: middle;\n",
       "    }\n",
       "\n",
       "    .dataframe tbody tr th {\n",
       "        vertical-align: top;\n",
       "    }\n",
       "\n",
       "    .dataframe thead th {\n",
       "        text-align: right;\n",
       "    }\n",
       "</style>\n",
       "<table border=\"1\" class=\"dataframe\">\n",
       "  <thead>\n",
       "    <tr style=\"text-align: right;\">\n",
       "      <th></th>\n",
       "      <th>restaurant_name</th>\n",
       "      <th>menu_prices</th>\n",
       "      <th>state</th>\n",
       "      <th>tags</th>\n",
       "    </tr>\n",
       "  </thead>\n",
       "  <tbody>\n",
       "    <tr>\n",
       "      <th>0</th>\n",
       "      <td>China Bistro</td>\n",
       "      <td>[6.59, 8.99, 10.39, 11.69, 27.99, 4.49, 6.39, ...</td>\n",
       "      <td>CA</td>\n",
       "      <td>Asian</td>\n",
       "    </tr>\n",
       "    <tr>\n",
       "      <th>1</th>\n",
       "      <td>China Bistro</td>\n",
       "      <td>[6.59, 8.99, 10.39, 11.69, 27.99, 4.49, 6.39, ...</td>\n",
       "      <td>CA</td>\n",
       "      <td>Chinese</td>\n",
       "    </tr>\n",
       "    <tr>\n",
       "      <th>2</th>\n",
       "      <td>China Bistro</td>\n",
       "      <td>[6.59, 8.99, 10.39, 11.69, 27.99, 4.49, 6.39, ...</td>\n",
       "      <td>CA</td>\n",
       "      <td>Dinner</td>\n",
       "    </tr>\n",
       "    <tr>\n",
       "      <th>3</th>\n",
       "      <td>China Bistro</td>\n",
       "      <td>[6.59, 8.99, 10.39, 11.69, 27.99, 4.49, 6.39, ...</td>\n",
       "      <td>CA</td>\n",
       "      <td>Healthy</td>\n",
       "    </tr>\n",
       "    <tr>\n",
       "      <th>4</th>\n",
       "      <td>China Bistro</td>\n",
       "      <td>[6.59, 8.99, 10.39, 11.69, 27.99, 4.49, 6.39, ...</td>\n",
       "      <td>CA</td>\n",
       "      <td>Lunch</td>\n",
       "    </tr>\n",
       "  </tbody>\n",
       "</table>\n",
       "</div>"
      ],
      "text/plain": [
       "  restaurant_name                                        menu_prices state  \\\n",
       "0    China Bistro  [6.59, 8.99, 10.39, 11.69, 27.99, 4.49, 6.39, ...    CA   \n",
       "1    China Bistro  [6.59, 8.99, 10.39, 11.69, 27.99, 4.49, 6.39, ...    CA   \n",
       "2    China Bistro  [6.59, 8.99, 10.39, 11.69, 27.99, 4.49, 6.39, ...    CA   \n",
       "3    China Bistro  [6.59, 8.99, 10.39, 11.69, 27.99, 4.49, 6.39, ...    CA   \n",
       "4    China Bistro  [6.59, 8.99, 10.39, 11.69, 27.99, 4.49, 6.39, ...    CA   \n",
       "\n",
       "      tags  \n",
       "0    Asian  \n",
       "1  Chinese  \n",
       "2   Dinner  \n",
       "3  Healthy  \n",
       "4    Lunch  "
      ]
     },
     "execution_count": 124,
     "metadata": {},
     "output_type": "execute_result"
    }
   ],
   "source": [
    "menu_new = pd.DataFrame({'restaurant_name':restaurant_name_new, \n",
    "                         'menu_prices':menu_prices_new, \n",
    "                        'state':state_new,\n",
    "                        'tags':total_tags})\n",
    "menu_new.to_csv(r'menupages_new.csv', index = None)"
   ]
  },
  {
   "cell_type": "markdown",
   "metadata": {},
   "source": [
    "## Aggregate Price on State and Tags"
   ]
  },
  {
   "cell_type": "code",
   "execution_count": 131,
   "metadata": {},
   "outputs": [],
   "source": [
    "i = 0\n",
    "avg_price = []\n",
    "while i<len(menu_new):\n",
    "    temp = statistics.mean(menu_new.iloc[i]['menu_prices'])\n",
    "    avg_price.append(temp)\n",
    "    i = i+1\n",
    "menu_new['avg_prices'] = avg_price"
   ]
  },
  {
   "cell_type": "code",
   "execution_count": 137,
   "metadata": {},
   "outputs": [],
   "source": [
    "i = 0\n",
    "avg_price1 = []\n",
    "while i<len(menu):\n",
    "    temp = statistics.mean(menu.iloc[i]['menu_prices'])\n",
    "    avg_price1.append(temp)\n",
    "    i = i+1\n",
    "menu['avg_prices'] = avg_price1"
   ]
  },
  {
   "cell_type": "code",
   "execution_count": 151,
   "metadata": {},
   "outputs": [],
   "source": [
    "median_by_state = menu.groupby(['state'])['avg_prices'].median().sort_values(ascending = False)\n",
    "median_by_tags = menu_new.groupby(['tags'])['avg_prices'].median().sort_values(ascending = False)\n",
    "\n",
    "mean_by_state = menu.groupby(['state'])['avg_prices'].mean().sort_values(ascending = False)\n",
    "mean_by_tags = menu_new.groupby(['tags'])['avg_prices'].mean().sort_values(ascending = False)"
   ]
  },
  {
   "cell_type": "code",
   "execution_count": 167,
   "metadata": {},
   "outputs": [
    {
     "name": "stderr",
     "output_type": "stream",
     "text": [
      "/opt/anaconda3/lib/python3.6/site-packages/scipy/stats/stats.py:1713: FutureWarning: Using a non-tuple sequence for multidimensional indexing is deprecated; use `arr[tuple(seq)]` instead of `arr[seq]`. In the future this will be interpreted as an array index, `arr[np.array(seq)]`, which will result either in an error or a different result.\n",
      "  return np.add.reduce(sorted[indexer] * weights, axis=axis) / sumval\n"
     ]
    },
    {
     "data": {
      "text/plain": [
       "<matplotlib.axes._subplots.AxesSubplot at 0x7f4154969a58>"
      ]
     },
     "execution_count": 167,
     "metadata": {},
     "output_type": "execute_result"
    },
    {
     "data": {
      "image/png": "[encoded data removed]",
      "text/plain": [
       "<Figure size 432x288 with 1 Axes>"
      ]
     },
     "metadata": {
      "needs_background": "light"
     },
     "output_type": "display_data"
    }
   ],
   "source": [
    "sns.distplot(median_by_state.values, hist=True, kde=True, \n",
    "             bins=int(180/5), color = 'darkblue', \n",
    "             hist_kws={'edgecolor':'black'},\n",
    "             kde_kws={'linewidth': 4})"
   ]
  },
  {
   "cell_type": "code",
   "execution_count": 168,
   "metadata": {},
   "outputs": [
    {
     "name": "stderr",
     "output_type": "stream",
     "text": [
      "/opt/anaconda3/lib/python3.6/site-packages/scipy/stats/stats.py:1713: FutureWarning: Using a non-tuple sequence for multidimensional indexing is deprecated; use `arr[tuple(seq)]` instead of `arr[seq]`. In the future this will be interpreted as an array index, `arr[np.array(seq)]`, which will result either in an error or a different result.\n",
      "  return np.add.reduce(sorted[indexer] * weights, axis=axis) / sumval\n"
     ]
    },
    {
     "data": {
      "text/plain": [
       "<matplotlib.axes._subplots.AxesSubplot at 0x7f41676338d0>"
      ]
     },
     "execution_count": 168,
     "metadata": {},
     "output_type": "execute_result"
    },
    {
     "data": {
      "image/png": "[encoded data removed]",
      "text/plain": [
       "<Figure size 432x288 with 1 Axes>"
      ]
     },
     "metadata": {
      "needs_background": "light"
     },
     "output_type": "display_data"
    }
   ],
   "source": [
    "sns.distplot(mean_by_state.values, hist=True, kde=True, \n",
    "             bins=int(180/5), color = 'darkblue', \n",
    "             hist_kws={'edgecolor':'black'},\n",
    "             kde_kws={'linewidth': 4})"
   ]
  },
  {
   "cell_type": "code",
   "execution_count": 169,
   "metadata": {},
   "outputs": [
    {
     "name": "stderr",
     "output_type": "stream",
     "text": [
      "/opt/anaconda3/lib/python3.6/site-packages/scipy/stats/stats.py:1713: FutureWarning: Using a non-tuple sequence for multidimensional indexing is deprecated; use `arr[tuple(seq)]` instead of `arr[seq]`. In the future this will be interpreted as an array index, `arr[np.array(seq)]`, which will result either in an error or a different result.\n",
      "  return np.add.reduce(sorted[indexer] * weights, axis=axis) / sumval\n"
     ]
    },
    {
     "data": {
      "text/plain": [
       "<matplotlib.axes._subplots.AxesSubplot at 0x7f4147a537f0>"
      ]
     },
     "execution_count": 169,
     "metadata": {},
     "output_type": "execute_result"
    },
    {
     "data": {
      "image/png": "[encoded data removed]",
      "text/plain": [
       "<Figure size 432x288 with 1 Axes>"
      ]
     },
     "metadata": {
      "needs_background": "light"
     },
     "output_type": "display_data"
    }
   ],
   "source": [
    "sns.distplot(median_by_tags.values, hist=True, kde=True, \n",
    "             bins=int(180/5), color = 'darkblue', \n",
    "             hist_kws={'edgecolor':'black'},\n",
    "             kde_kws={'linewidth': 4})"
   ]
  },
  {
   "cell_type": "code",
   "execution_count": 182,
   "metadata": {},
   "outputs": [
    {
     "name": "stderr",
     "output_type": "stream",
     "text": [
      "/opt/anaconda3/lib/python3.6/site-packages/scipy/stats/stats.py:1713: FutureWarning: Using a non-tuple sequence for multidimensional indexing is deprecated; use `arr[tuple(seq)]` instead of `arr[seq]`. In the future this will be interpreted as an array index, `arr[np.array(seq)]`, which will result either in an error or a different result.\n",
      "  return np.add.reduce(sorted[indexer] * weights, axis=axis) / sumval\n"
     ]
    },
    {
     "data": {
      "text/plain": [
       "<matplotlib.axes._subplots.AxesSubplot at 0x7f414781e550>"
      ]
     },
     "execution_count": 182,
     "metadata": {},
     "output_type": "execute_result"
    },
    {
     "data": {
      "image/png": "[encoded data removed]",
      "text/plain": [
       "<Figure size 432x288 with 1 Axes>"
      ]
     },
     "metadata": {
      "needs_background": "light"
     },
     "output_type": "display_data"
    }
   ],
   "source": [
    "sns.distplot(mean_by_tags.values, hist=True, kde=True, \n",
    "             bins=int(180/5), color = 'darkblue', \n",
    "             hist_kws={'edgecolor':'black'},\n",
    "             kde_kws={'linewidth': 4})"
   ]
  },
  {
   "cell_type": "code",
   "execution_count": 185,
   "metadata": {},
   "outputs": [],
   "source": [
    "#menu.head()\n",
    "menu_state = menu[['restaurant_name','menu_prices','state','tags','avg_prices']]"
   ]
  },
  {
   "cell_type": "code",
   "execution_count": 186,
   "metadata": {},
   "outputs": [
    {
     "data": {
      "text/html": [
       "<div>\n",
       "<style scoped>\n",
       "    .dataframe tbody tr th:only-of-type {\n",
       "        vertical-align: middle;\n",
       "    }\n",
       "\n",
       "    .dataframe tbody tr th {\n",
       "        vertical-align: top;\n",
       "    }\n",
       "\n",
       "    .dataframe thead th {\n",
       "        text-align: right;\n",
       "    }\n",
       "</style>\n",
       "<table border=\"1\" class=\"dataframe\">\n",
       "  <thead>\n",
       "    <tr style=\"text-align: right;\">\n",
       "      <th></th>\n",
       "      <th>restaurant_name</th>\n",
       "      <th>menu_prices</th>\n",
       "      <th>state</th>\n",
       "      <th>tags</th>\n",
       "      <th>avg_prices</th>\n",
       "    </tr>\n",
       "  </thead>\n",
       "  <tbody>\n",
       "    <tr>\n",
       "      <th>0</th>\n",
       "      <td>China Bistro</td>\n",
       "      <td>[6.59, 8.99, 10.39, 11.69, 27.99, 4.49, 6.39, ...</td>\n",
       "      <td>CA</td>\n",
       "      <td>Asian, Chinese, Dinner, Healthy, Lunch, Seafoo...</td>\n",
       "      <td>12.385146</td>\n",
       "    </tr>\n",
       "    <tr>\n",
       "      <th>1</th>\n",
       "      <td>The Rice Street</td>\n",
       "      <td>[4.5, 9.5, 4.5, 2.5, 2.5, 2.5, 2.5, 2.5, 2.5, ...</td>\n",
       "      <td>CA</td>\n",
       "      <td>Asian, Dinner, Lunch Specials, Noodles, Seafoo...</td>\n",
       "      <td>6.537879</td>\n",
       "    </tr>\n",
       "    <tr>\n",
       "      <th>2</th>\n",
       "      <td>Tam's Pizzeria</td>\n",
       "      <td>[4.99, 5.99, 2.99, 0.78, 1.29, 1.14, 6.99, 5.9...</td>\n",
       "      <td>CA</td>\n",
       "      <td>Dinner, Hamburgers, Lunch Specials, Pasta, Piz...</td>\n",
       "      <td>6.687647</td>\n",
       "    </tr>\n",
       "    <tr>\n",
       "      <th>3</th>\n",
       "      <td>World Famous Grill</td>\n",
       "      <td>[2.69, 4.49, 12.99, 2.69, 2.49, 3.49, 3.49, 3....</td>\n",
       "      <td>CA</td>\n",
       "      <td>Dinner, Hamburgers, Lunch Specials, Mediterran...</td>\n",
       "      <td>5.634533</td>\n",
       "    </tr>\n",
       "    <tr>\n",
       "      <th>5</th>\n",
       "      <td>Royal's Taste</td>\n",
       "      <td>[8.95, 9.95, 11.95, 1.0, 1.5, 2.5, 4.0, 4.0, 4...</td>\n",
       "      <td>CA</td>\n",
       "      <td>Dessert, Dinner, Lunch, Lunch Specials, Noodle...</td>\n",
       "      <td>9.511538</td>\n",
       "    </tr>\n",
       "  </tbody>\n",
       "</table>\n",
       "</div>"
      ],
      "text/plain": [
       "      restaurant_name                                        menu_prices  \\\n",
       "0        China Bistro  [6.59, 8.99, 10.39, 11.69, 27.99, 4.49, 6.39, ...   \n",
       "1     The Rice Street  [4.5, 9.5, 4.5, 2.5, 2.5, 2.5, 2.5, 2.5, 2.5, ...   \n",
       "2      Tam's Pizzeria  [4.99, 5.99, 2.99, 0.78, 1.29, 1.14, 6.99, 5.9...   \n",
       "3  World Famous Grill  [2.69, 4.49, 12.99, 2.69, 2.49, 3.49, 3.49, 3....   \n",
       "5       Royal's Taste  [8.95, 9.95, 11.95, 1.0, 1.5, 2.5, 4.0, 4.0, 4...   \n",
       "\n",
       "  state                                               tags  avg_prices  \n",
       "0    CA  Asian, Chinese, Dinner, Healthy, Lunch, Seafoo...   12.385146  \n",
       "1    CA  Asian, Dinner, Lunch Specials, Noodles, Seafoo...    6.537879  \n",
       "2    CA  Dinner, Hamburgers, Lunch Specials, Pasta, Piz...    6.687647  \n",
       "3    CA  Dinner, Hamburgers, Lunch Specials, Mediterran...    5.634533  \n",
       "5    CA  Dessert, Dinner, Lunch, Lunch Specials, Noodle...    9.511538  "
      ]
     },
     "execution_count": 186,
     "metadata": {},
     "output_type": "execute_result"
    }
   ],
   "source": [
    "menu_state.head()"
   ]
  },
  {
   "cell_type": "markdown",
   "metadata": {},
   "source": [
    "## Most Popular Restaurant Names"
   ]
  },
  {
   "cell_type": "code",
   "execution_count": 180,
   "metadata": {},
   "outputs": [
    {
     "data": {
      "text/html": [
       "<div>\n",
       "<style scoped>\n",
       "    .dataframe tbody tr th:only-of-type {\n",
       "        vertical-align: middle;\n",
       "    }\n",
       "\n",
       "    .dataframe tbody tr th {\n",
       "        vertical-align: top;\n",
       "    }\n",
       "\n",
       "    .dataframe thead th {\n",
       "        text-align: right;\n",
       "    }\n",
       "</style>\n",
       "<table border=\"1\" class=\"dataframe\">\n",
       "  <thead>\n",
       "    <tr style=\"text-align: right;\">\n",
       "      <th></th>\n",
       "      <th>restaurant_name</th>\n",
       "      <th>menu_prices</th>\n",
       "      <th>state</th>\n",
       "      <th>tags</th>\n",
       "      <th>avg_prices</th>\n",
       "    </tr>\n",
       "  </thead>\n",
       "  <tbody>\n",
       "    <tr>\n",
       "      <th>0</th>\n",
       "      <td>China Bistro</td>\n",
       "      <td>[6.59, 8.99, 10.39, 11.69, 27.99, 4.49, 6.39, ...</td>\n",
       "      <td>CA</td>\n",
       "      <td>Asian</td>\n",
       "      <td>12.385146</td>\n",
       "    </tr>\n",
       "    <tr>\n",
       "      <th>1</th>\n",
       "      <td>China Bistro</td>\n",
       "      <td>[6.59, 8.99, 10.39, 11.69, 27.99, 4.49, 6.39, ...</td>\n",
       "      <td>CA</td>\n",
       "      <td>Chinese</td>\n",
       "      <td>12.385146</td>\n",
       "    </tr>\n",
       "    <tr>\n",
       "      <th>2</th>\n",
       "      <td>China Bistro</td>\n",
       "      <td>[6.59, 8.99, 10.39, 11.69, 27.99, 4.49, 6.39, ...</td>\n",
       "      <td>CA</td>\n",
       "      <td>Dinner</td>\n",
       "      <td>12.385146</td>\n",
       "    </tr>\n",
       "    <tr>\n",
       "      <th>3</th>\n",
       "      <td>China Bistro</td>\n",
       "      <td>[6.59, 8.99, 10.39, 11.69, 27.99, 4.49, 6.39, ...</td>\n",
       "      <td>CA</td>\n",
       "      <td>Healthy</td>\n",
       "      <td>12.385146</td>\n",
       "    </tr>\n",
       "    <tr>\n",
       "      <th>4</th>\n",
       "      <td>China Bistro</td>\n",
       "      <td>[6.59, 8.99, 10.39, 11.69, 27.99, 4.49, 6.39, ...</td>\n",
       "      <td>CA</td>\n",
       "      <td>Lunch</td>\n",
       "      <td>12.385146</td>\n",
       "    </tr>\n",
       "  </tbody>\n",
       "</table>\n",
       "</div>"
      ],
      "text/plain": [
       "  restaurant_name                                        menu_prices state  \\\n",
       "0    China Bistro  [6.59, 8.99, 10.39, 11.69, 27.99, 4.49, 6.39, ...    CA   \n",
       "1    China Bistro  [6.59, 8.99, 10.39, 11.69, 27.99, 4.49, 6.39, ...    CA   \n",
       "2    China Bistro  [6.59, 8.99, 10.39, 11.69, 27.99, 4.49, 6.39, ...    CA   \n",
       "3    China Bistro  [6.59, 8.99, 10.39, 11.69, 27.99, 4.49, 6.39, ...    CA   \n",
       "4    China Bistro  [6.59, 8.99, 10.39, 11.69, 27.99, 4.49, 6.39, ...    CA   \n",
       "\n",
       "      tags  avg_prices  \n",
       "0    Asian   12.385146  \n",
       "1  Chinese   12.385146  \n",
       "2   Dinner   12.385146  \n",
       "3  Healthy   12.385146  \n",
       "4    Lunch   12.385146  "
      ]
     },
     "execution_count": 180,
     "metadata": {},
     "output_type": "execute_result"
    }
   ],
   "source": [
    "menu_new.head()"
   ]
  },
  {
   "cell_type": "code",
   "execution_count": 178,
   "metadata": {},
   "outputs": [
    {
     "name": "stdout",
     "output_type": "stream",
     "text": [
      "20628\n"
     ]
    },
    {
     "data": {
      "text/plain": [
       "array(['China Bistro', 'The Rice Street', 'Tam s Pizzeria', ...,\n",
       "       'The Village Cookery', 'Bombay Indian Grill', 'Wing Zone'],\n",
       "      dtype=object)"
      ]
     },
     "execution_count": 178,
     "metadata": {},
     "output_type": "execute_result"
    }
   ],
   "source": [
    "remove_punc(menu,5).values"
   ]
  },
  {
   "cell_type": "markdown",
   "metadata": {},
   "source": [
    "## Analysis on Low Average Price Restaurants"
   ]
  },
  {
   "cell_type": "code",
   "execution_count": 53,
   "metadata": {},
   "outputs": [],
   "source": [
    "#analysis on low average price restaurants\n",
    "\n",
    "#clean menu_prices column\n",
    "i = 0\n",
    "while i<len(menu):\n",
    "    temp = priceseperator(menu.iloc[i])\n",
    "    menu.iloc[i]['menu_prices'] = temp\n",
    "    i = i + 1\n",
    "\n",
    "#calculate avg price for each restaurant\n",
    "price = []\n",
    "i = 0\n",
    "while i<len(menu):\n",
    "    price.append(statistics.mean(menu.iloc[i]['menu_prices']))\n",
    "    i = i + 1\n",
    "\n",
    "#upper and lower 2.5% bound for avg price\n",
    "a = round(np.percentile(price, 2.5),2)\n",
    "b = round(np.percentile(price, 97.5),2)\n",
    "print(a,b)\n",
    "\n",
    "#restaurant index of low price\n",
    "i = 0\n",
    "lowprice = []\n",
    "while i < len(price):\n",
    "    if price[i] <= 4.5:\n",
    "        lowprice.append(i)\n",
    "    i = i + 1\n",
    "\n",
    "#tags of restaurants with low price\n",
    "lowtag = []\n",
    "for p in lowprice:\n",
    "    temp = tagseperator(menu.iloc[p])\n",
    "    lowtag = lowtag + temp\n",
    "\n",
    "#top 10 tags of low price    \n",
    "count_lowtag = Counter(lowtag)\n",
    "count_lowtag.most_common(10)\n",
    "\n",
    "count_lowtag = Counter(lowtag)\n",
    "count_lowtag.most_common(10)"
   ]
  }
 ],
 "metadata": {
  "kernelspec": {
   "display_name": "Python 3",
   "language": "python",
   "name": "python3"
  },
  "language_info": {
   "codemirror_mode": {
    "name": "ipython",
    "version": 3
   },
   "file_extension": ".py",
   "mimetype": "text/x-python",
   "name": "python",
   "nbconvert_exporter": "python",
   "pygments_lexer": "ipython3",
   "version": "3.6.8"
  }
 },
 "nbformat": 4,
 "nbformat_minor": 2
}
